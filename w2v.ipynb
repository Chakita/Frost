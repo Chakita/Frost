{
 "cells": [
  {
   "cell_type": "markdown",
   "metadata": {},
   "source": [
    "#### Training a word2vec model on the corpus. The model is used to find rhyming words that are similar in meaning and the word embeddings produced by the model is used in the embedding layer of the RNN."
   ]
  },
  {
   "cell_type": "code",
   "execution_count": null,
   "metadata": {},
   "outputs": [],
   "source": [
    "import gensim\n",
    "training_file=open(\"taylorswift.txt\")\n",
    "poems1=open(\"keats.txt\")\n",
    "poems2=open(\"frost_poems.txt\")\n",
    "corpus1=training_file.read().lower().split(\"\\n\")\n",
    "corpus1=[sentence for sentence in corpus1 if(sentence!='' and len(sentence)>1)]\n",
    "corpus2=poems1.read().lower().split(\"\\n\")\n",
    "corpus2=[sentence for sentence in corpus2 if(sentence!='' and len(sentence)>1)]\n",
    "corpus3=poems2.read().lower().split(\"\\n\")\n",
    "corpus3=[sentence for sentence in corpus3 if(sentence!='' and len(sentence)>1)]\n",
    "corpus=corpus1+corpus2+corpus3\n",
    "words=[[word for word in sentence.split()] for sentence in corpus]\n",
    "\n",
    "word_model=gensim.models.Word2Vec(words,size=100,min_count=1,window=5,iter=100)\n",
    "word_model.save(\"word2vec_model\")\n"
   ]
  }
 ],
 "metadata": {
  "kernelspec": {
   "display_name": "Python 3",
   "language": "python",
   "name": "python3"
  },
  "language_info": {
   "codemirror_mode": {
    "name": "ipython",
    "version": 3
   },
   "file_extension": ".py",
   "mimetype": "text/x-python",
   "name": "python",
   "nbconvert_exporter": "python",
   "pygments_lexer": "ipython3",
   "version": "3.6.9"
  }
 },
 "nbformat": 4,
 "nbformat_minor": 4
}
